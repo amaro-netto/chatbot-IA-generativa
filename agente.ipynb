{
 "cells": [
  {
   "cell_type": "markdown",
   "id": "f95a73ed",
   "metadata": {},
   "source": [
    "#### Configurando o Agente"
   ]
  },
  {
   "cell_type": "code",
   "execution_count": 7,
   "id": "eafefcb2",
   "metadata": {},
   "outputs": [],
   "source": [
    "import os\n",
    "import google.generativeai as genai\n",
    "from dotenv import load_dotenv\n",
    "\n",
    "# Carrega a chave de API do seu arquivo .env\n",
    "load_dotenv()\n",
    "genai.configure(api_key=os.getenv(\"GOOGLE_API_KEY\"))"
   ]
  },
  {
   "cell_type": "code",
   "execution_count": 8,
   "id": "446b2da2",
   "metadata": {},
   "outputs": [
    {
     "name": "stdout",
     "output_type": "stream",
     "text": [
      "models/embedding-gecko-001\n",
      "models/gemini-1.5-pro-latest\n",
      "models/gemini-1.5-pro-002\n",
      "models/gemini-1.5-pro\n",
      "models/gemini-1.5-flash-latest\n",
      "models/gemini-1.5-flash\n",
      "models/gemini-1.5-flash-002\n",
      "models/gemini-1.5-flash-8b\n",
      "models/gemini-1.5-flash-8b-001\n",
      "models/gemini-1.5-flash-8b-latest\n",
      "models/gemini-2.5-pro-preview-03-25\n",
      "models/gemini-2.5-flash-preview-05-20\n",
      "models/gemini-2.5-flash\n",
      "models/gemini-2.5-flash-lite-preview-06-17\n",
      "models/gemini-2.5-pro-preview-05-06\n",
      "models/gemini-2.5-pro-preview-06-05\n",
      "models/gemini-2.5-pro\n",
      "models/gemini-2.0-flash-exp\n",
      "models/gemini-2.0-flash\n",
      "models/gemini-2.0-flash-001\n",
      "models/gemini-2.0-flash-exp-image-generation\n",
      "models/gemini-2.0-flash-lite-001\n",
      "models/gemini-2.0-flash-lite\n",
      "models/gemini-2.0-flash-preview-image-generation\n",
      "models/gemini-2.0-flash-lite-preview-02-05\n",
      "models/gemini-2.0-flash-lite-preview\n",
      "models/gemini-2.0-pro-exp\n",
      "models/gemini-2.0-pro-exp-02-05\n",
      "models/gemini-exp-1206\n",
      "models/gemini-2.0-flash-thinking-exp-01-21\n",
      "models/gemini-2.0-flash-thinking-exp\n",
      "models/gemini-2.0-flash-thinking-exp-1219\n",
      "models/gemini-2.5-flash-preview-tts\n",
      "models/gemini-2.5-pro-preview-tts\n",
      "models/learnlm-2.0-flash-experimental\n",
      "models/gemma-3-1b-it\n",
      "models/gemma-3-4b-it\n",
      "models/gemma-3-12b-it\n",
      "models/gemma-3-27b-it\n",
      "models/gemma-3n-e4b-it\n",
      "models/gemma-3n-e2b-it\n",
      "models/gemini-2.5-flash-lite\n",
      "models/embedding-001\n",
      "models/text-embedding-004\n",
      "models/gemini-embedding-exp-03-07\n",
      "models/gemini-embedding-exp\n",
      "models/gemini-embedding-001\n",
      "models/aqa\n",
      "models/imagen-3.0-generate-002\n",
      "models/imagen-4.0-generate-preview-06-06\n",
      "models/imagen-4.0-ultra-generate-preview-06-06\n",
      "models/veo-2.0-generate-001\n",
      "models/veo-3.0-generate-preview\n",
      "models/veo-3.0-fast-generate-preview\n",
      "models/gemini-2.5-flash-preview-native-audio-dialog\n",
      "models/gemini-2.5-flash-exp-native-audio-thinking-dialog\n",
      "models/gemini-2.0-flash-live-001\n",
      "models/gemini-live-2.5-flash-preview\n",
      "models/gemini-2.5-flash-live-preview\n"
     ]
    }
   ],
   "source": [
    "# Listar os modelos disponiveis\n",
    "for model in genai.list_models():\n",
    "    print(model.name)"
   ]
  },
  {
   "cell_type": "code",
   "execution_count": 9,
   "id": "8b66b072",
   "metadata": {},
   "outputs": [],
   "source": [
    "# Inicializa o modelo\n",
    "model = genai.GenerativeModel('gemini-2.5-flash-lite')"
   ]
  },
  {
   "cell_type": "code",
   "execution_count": 10,
   "id": "c26e1b50",
   "metadata": {},
   "outputs": [
    {
     "name": "stdout",
     "output_type": "stream",
     "text": [
      "A capital da França é **Paris**.\n"
     ]
    }
   ],
   "source": [
    "# interagir com o modelo\n",
    "response = model.generate_content(\"Qual a capital da França?\")\n",
    "print(response.text)"
   ]
  },
  {
   "cell_type": "code",
   "execution_count": 11,
   "id": "1dc30452",
   "metadata": {},
   "outputs": [
    {
     "name": "stdout",
     "output_type": "stream",
     "text": [
      "A **computação quântica** é um novo paradigma de computação que se baseia nos princípios da mecânica quântica para realizar cálculos. Diferente dos computadores clássicos que usam bits para representar informações (0 ou 1), os computadores quânticos usam **qubits**.\n",
      "\n",
      "Aqui está uma decomposição dos conceitos chave:\n",
      "\n",
      "**1. Bits Clássicos vs. Qubits:**\n",
      "\n",
      "*   **Bits Clássicos:** Podem estar em um estado definido de 0 ou 1. São como um interruptor de luz que está ligado ou desligado.\n",
      "*   **Qubits (Bits Quânticos):** Podem estar em um estado de 0, 1, ou uma **superposição** de ambos ao mesmo tempo. Imagine um interruptor de luz que está simultaneamente ligado e desligado em diferentes proporções. Essa capacidade de estar em múltiplos estados simultaneamente é o que confere o poder à computação quântica.\n",
      "\n",
      "**2. Princípios da Mecânica Quântica Utilizados:**\n",
      "\n",
      "*   **Superposição:** Como mencionado acima, um qubit pode existir em múltiplos estados ao mesmo tempo. Isso permite que um computador quântico explore muitas possibilidades simultaneamente.\n",
      "*   **Entrelaçamento (Entanglement):** Dois ou mais qubits podem se tornar \"entrelaçados\", o que significa que seus estados estão intrinsecamente ligados. Se você mede o estado de um qubit entrelaçado, você instantaneamente sabe o estado do outro, não importa a distância entre eles. Isso permite que qubits trabalhem juntos de maneiras muito mais complexas do que bits clássicos.\n",
      "*   **Interferência:** Assim como ondas de luz podem interferir construtiva ou destrutivamente, os estados dos qubits podem interferir. Os algoritmos quânticos são projetados para amplificar as respostas corretas e cancelar as respostas incorretas através da interferência.\n",
      "\n",
      "**Como os computadores quânticos realizam cálculos?**\n",
      "\n",
      "Em vez de operar em um único estado por vez como um computador clássico, um computador quântico, aproveitando a superposição, pode representar e operar em um grande número de estados simultaneamente.\n",
      "\n",
      "Pense em um problema de encontrar a saída em um labirinto:\n",
      "\n",
      "*   **Computador Clássico:** Tentaria um caminho de cada vez até encontrar a saída.\n",
      "*   **Computador Quântico:** Poderia explorar muitos caminhos simultaneamente, aumentando a chance de encontrar a saída mais rapidamente.\n",
      "\n",
      "**Quais são as aplicações potenciais da computação quântica?**\n",
      "\n",
      "A computação quântica tem o potencial de revolucionar muitas áreas, resolvendo problemas que são intratáveis para os computadores clássicos mais poderosos. Algumas das aplicações mais promissoras incluem:\n",
      "\n",
      "*   **Descoberta de Medicamentos e Materiais:** Simular moléculas e reações químicas com precisão sem precedentes, acelerando a descoberta de novos medicamentos, materiais com propriedades inovadoras (supercondutores, catalisadores mais eficientes), e soluções para problemas ambientais.\n",
      "*   **Otimização:** Resolver problemas de otimização complexos em áreas como logística, finanças, gerenciamento de portfólio, e planejamento de rotas.\n",
      "*   **Criptografia:** Quebrar métodos de criptografia atuais (como RSA) que dependem da dificuldade de fatorar grandes números. Ao mesmo tempo, a computação quântica impulsionará a **criptografia pós-quântica**, que será resistente a ataques de computadores quânticos.\n",
      "*   **Inteligência Artificial e Machine Learning:** Acelerar o treinamento de modelos de aprendizado de máquina e desenvolver novos algoritmos de IA mais poderosos.\n",
      "*   **Simulações Científicas:** Simular sistemas físicos complexos em áreas como física de partículas, astrofísica e ciência quântica.\n",
      "\n",
      "**Desafios da computação quântica:**\n",
      "\n",
      "Apesar do seu potencial, a computação quântica ainda está em seus estágios iniciais de desenvolvimento e enfrenta vários desafios:\n",
      "\n",
      "*   **Decoerência:** Qubits são extremamente sensíveis ao ambiente (calor, vibração, interferência eletromagnética). Qualquer interação indesejada pode fazer com que percam seu estado quântico, um fenômeno chamado decoerência.\n",
      "*   **Correção de Erros Quânticos:** A correção de erros em sistemas quânticos é muito mais complexa do que em sistemas clássicos.\n",
      "*   **Construção e Controle:** Construir e controlar computadores quânticos estáveis e escaláveis é um feito de engenharia e ciência extremamente desafiador.\n",
      "*   **Algoritmos:** Desenvolver algoritmos quânticos eficazes para resolver problemas específicos ainda é uma área ativa de pesquisa.\n",
      "\n",
      "**Em resumo:**\n",
      "\n",
      "A computação quântica é uma tecnologia emergente que aproveita as leis estranhas e poderosas da mecânica quântica para realizar cálculos. Embora ainda enfrentando desafios significativos, ela promete resolver alguns dos problemas mais complexos do mundo, abrindo portas para inovações em diversas áreas.\n"
     ]
    }
   ],
   "source": [
    "response = model.generate_content('o que é computação quantica?')\n",
    "print(response.text)"
   ]
  },
  {
   "cell_type": "markdown",
   "id": "c6f70f0e",
   "metadata": {},
   "source": [
    "### Testes"
   ]
  }
 ],
 "metadata": {
  "kernelspec": {
   "display_name": "env",
   "language": "python",
   "name": "python3"
  },
  "language_info": {
   "codemirror_mode": {
    "name": "ipython",
    "version": 3
   },
   "file_extension": ".py",
   "mimetype": "text/x-python",
   "name": "python",
   "nbconvert_exporter": "python",
   "pygments_lexer": "ipython3",
   "version": "3.13.6"
  }
 },
 "nbformat": 4,
 "nbformat_minor": 5
}
